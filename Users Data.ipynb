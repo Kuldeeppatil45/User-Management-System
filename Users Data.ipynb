{
 "cells": [
  {
   "cell_type": "code",
   "execution_count": 1,
   "id": "1c700c91-c2f6-4c0f-9cf4-046edf751e7c",
   "metadata": {},
   "outputs": [
    {
     "name": "stdout",
     "output_type": "stream",
     "text": [
      "Requirement already satisfied: pandas in c:\\users\\user\\appdata\\local\\programs\\python\\python312\\lib\\site-packages (2.2.2)\n",
      "Requirement already satisfied: openpyxl in c:\\users\\user\\appdata\\local\\programs\\python\\python312\\lib\\site-packages (3.1.5)\n",
      "Requirement already satisfied: numpy>=1.26.0 in c:\\users\\user\\appdata\\local\\programs\\python\\python312\\lib\\site-packages (from pandas) (1.26.4)\n",
      "Requirement already satisfied: python-dateutil>=2.8.2 in c:\\users\\user\\appdata\\local\\programs\\python\\python312\\lib\\site-packages (from pandas) (2.9.0.post0)\n",
      "Requirement already satisfied: pytz>=2020.1 in c:\\users\\user\\appdata\\local\\programs\\python\\python312\\lib\\site-packages (from pandas) (2024.1)\n",
      "Requirement already satisfied: tzdata>=2022.7 in c:\\users\\user\\appdata\\local\\programs\\python\\python312\\lib\\site-packages (from pandas) (2024.1)\n",
      "Requirement already satisfied: et-xmlfile in c:\\users\\user\\appdata\\local\\programs\\python\\python312\\lib\\site-packages (from openpyxl) (1.1.0)\n",
      "Requirement already satisfied: six>=1.5 in c:\\users\\user\\appdata\\local\\programs\\python\\python312\\lib\\site-packages (from python-dateutil>=2.8.2->pandas) (1.16.0)\n",
      "Note: you may need to restart the kernel to use updated packages.\n"
     ]
    },
    {
     "name": "stderr",
     "output_type": "stream",
     "text": [
      "\n",
      "[notice] A new release of pip is available: 24.0 -> 24.2\n",
      "[notice] To update, run: python.exe -m pip install --upgrade pip\n"
     ]
    }
   ],
   "source": [
    "pip install pandas openpyxl\n"
   ]
  },
  {
   "cell_type": "code",
   "execution_count": 2,
   "id": "f83ab9b7-4475-423e-a999-1efaf9f01112",
   "metadata": {},
   "outputs": [
    {
     "name": "stdout",
     "output_type": "stream",
     "text": [
      "\n",
      "1. Add User\n",
      "2. Display Users\n",
      "3. Exit\n"
     ]
    },
    {
     "name": "stdin",
     "output_type": "stream",
     "text": [
      "Choose an option:  1\n",
      "Enter Name:  Rahual verma\n",
      "Enter Email:  Rahual@gmail.com\n",
      "Enter Phone Number:  7788998899\n"
     ]
    },
    {
     "name": "stdout",
     "output_type": "stream",
     "text": [
      "User Rahual verma added successfully!\n",
      "\n",
      "1. Add User\n",
      "2. Display Users\n",
      "3. Exit\n"
     ]
    },
    {
     "name": "stdin",
     "output_type": "stream",
     "text": [
      "Choose an option:  2\n"
     ]
    },
    {
     "name": "stdout",
     "output_type": "stream",
     "text": [
      "\n",
      "Stored Users:\n",
      "            Name              Email       Phone\n",
      "0  Kuldeep Patil  Kuldeep@gmail.com  7788997766\n",
      "1   Mohit Sharma    Mohit@gmail.com  7798980965\n",
      "2      Kiran Rao    Kiran@gmail.com  8888779900\n",
      "3   Rahual verma   Rahual@gmail.com  7788998899\n",
      "\n",
      "1. Add User\n",
      "2. Display Users\n",
      "3. Exit\n"
     ]
    },
    {
     "name": "stdin",
     "output_type": "stream",
     "text": [
      "Choose an option:  3\n"
     ]
    },
    {
     "name": "stdout",
     "output_type": "stream",
     "text": [
      "Thankyou🙏!\n"
     ]
    }
   ],
   "source": [
    "import pandas as pd\n",
    "import os\n",
    "\n",
    "df = \"data.xlsx\"\n",
    "\n",
    "def add_user():\n",
    "    name = input(\"Enter Name: \")\n",
    "    email = input(\"Enter Email: \")\n",
    "    phone = input(\"Enter Phone Number: \")\n",
    "\n",
    "    user_data = pd.DataFrame([[name, email, phone]], columns=['Name', 'Email', 'Phone'])\n",
    "\n",
    "    if os.path.exists(df):\n",
    "        ed = pd.read_excel(df)\n",
    "        ud = pd.concat([ed, user_data], ignore_index=True)\n",
    "    else:\n",
    "        ud = user_data\n",
    "\n",
    "    ud.to_excel(df, index=False)\n",
    "    print(\"User\",name,\"added successfully!\")\n",
    "\n",
    "def display_users():\n",
    "    if os.path.exists(df):\n",
    "        users_data = pd.read_excel(df)\n",
    "        print(\"\\nStored Users:\")\n",
    "        print(users_data)\n",
    "    else:\n",
    "        print(\"No users found!\")\n",
    "\n",
    "def main_menu():\n",
    "    while True:\n",
    "        print(\"\\n1. Add User\")\n",
    "        print(\"2. Display Users\")\n",
    "        print(\"3. Exit\")\n",
    "        choice = input(\"Choose an option: \")\n",
    "\n",
    "        if choice == '1':\n",
    "            add_user()\n",
    "        elif choice == '2':\n",
    "            display_users()\n",
    "        elif choice == '3':\n",
    "            print(\"Thankyou🙏!\")\n",
    "            break\n",
    "        else:\n",
    "            print(\"Invalid Input. Please try again.\")\n",
    "\n",
    "if __name__ == \"__main__\":\n",
    "    main_menu()\n"
   ]
  },
  {
   "cell_type": "code",
   "execution_count": null,
   "id": "fddf45e2-227a-41ba-91c3-1a0813b4f29c",
   "metadata": {},
   "outputs": [],
   "source": []
  }
 ],
 "metadata": {
  "kernelspec": {
   "display_name": "Python 3 (ipykernel)",
   "language": "python",
   "name": "python3"
  },
  "language_info": {
   "codemirror_mode": {
    "name": "ipython",
    "version": 3
   },
   "file_extension": ".py",
   "mimetype": "text/x-python",
   "name": "python",
   "nbconvert_exporter": "python",
   "pygments_lexer": "ipython3",
   "version": "3.12.2"
  }
 },
 "nbformat": 4,
 "nbformat_minor": 5
}
